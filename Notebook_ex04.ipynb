{
 "cells": [
  {
   "cell_type": "markdown",
   "id": "14ee5966-18b3-41b4-8fd6-da02e2cc5b6a",
   "metadata": {},
   "source": [
    "# Handling missing values"
   ]
  },
  {
   "cell_type": "code",
   "execution_count": 1,
   "id": "a9b5dedf-ec3a-4edc-9221-073151b8ec99",
   "metadata": {},
   "outputs": [
    {
     "name": "stdout",
     "output_type": "stream",
     "text": [
      "Empty DataFrame\n",
      "Columns: [sepal_length, sepal_width, petal_length, petal_width]\n",
      "Index: []\n",
      "Empty DataFrame\n",
      "Columns: [sepal_length, sepal_width, petal_length, petal_width]\n",
      "Index: []\n"
     ]
    }
   ],
   "source": [
    "import pandas as pd\n",
    "\n",
    "df = pd.read_csv(\"iris.csv\")\n",
    "\n",
    "# Drop the 'flower' column\n",
    "df = df.drop(columns=['flower'])\n",
    "\n",
    "# Convert to numeric (if there are stray text values, they become NaN)\n",
    "numeric_cols = ['sepal_length', 'sepal_width', 'petal_length', 'petal_width']\n",
    "df[numeric_cols] = df[numeric_cols].apply(pd.to_numeric, errors='coerce')\n",
    "\n",
    "# Now safely fill NaNs\n",
    "df['sepal_length'] = df['sepal_length'].fillna(df['sepal_length'].mean())   # mean\n",
    "df['sepal_width']  = df['sepal_width'].fillna(df['sepal_width'].median())  # median\n",
    "df['petal_length'] = df['petal_length'].fillna(0)                          # 0\n",
    "df['petal_width']  = df['petal_width'].fillna(0)                           # 0\n",
    "\n",
    "# Alternative: fill all numeric NaNs with median\n",
    "df = df.fillna(df.median(numeric_only=True))\n",
    "\n",
    "# Rows with all NaN\n",
    "print(df[df.isnull().all(axis=1)])\n",
    "\n",
    "# Suspicious rows with all zeros\n",
    "print(df[(df == 0).all(axis=1)])\n"
   ]
  },
  {
   "cell_type": "code",
   "execution_count": null,
   "id": "a48b11c3-b667-4658-a372-49eea1ae1063",
   "metadata": {},
   "outputs": [],
   "source": []
  }
 ],
 "metadata": {
  "kernelspec": {
   "display_name": "Python 3 (ipykernel)",
   "language": "python",
   "name": "python3"
  },
  "language_info": {
   "codemirror_mode": {
    "name": "ipython",
    "version": 3
   },
   "file_extension": ".py",
   "mimetype": "text/x-python",
   "name": "python",
   "nbconvert_exporter": "python",
   "pygments_lexer": "ipython3",
   "version": "3.13.7"
  }
 },
 "nbformat": 4,
 "nbformat_minor": 5
}
