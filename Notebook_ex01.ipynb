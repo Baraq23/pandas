{
 "cells": [
  {
   "cell_type": "markdown",
   "id": "892ebb41-8d2e-4d17-86d4-17d71598cdc1",
   "metadata": {},
   "source": [
    "# DataFrame"
   ]
  },
  {
   "cell_type": "markdown",
   "id": "1c6370d2-25dc-40f4-aa6a-b5ef61d6d45b",
   "metadata": {},
   "source": [
    "## DataFrame from a NumPy array"
   ]
  },
  {
   "cell_type": "code",
   "execution_count": 2,
   "id": "e34f156c-bc9c-4b1d-ae55-591a9f1f616c",
   "metadata": {},
   "outputs": [
    {
     "name": "stdout",
     "output_type": "stream",
     "text": [
      "   color     list number\n",
      "1   Blue   [1, 2]    1.1\n",
      "3    Red   [3, 4]    2.2\n",
      "5   Pink   [5, 6]    3.3\n",
      "7   Grey   [7, 8]    4.4\n",
      "9  Black  [9, 10]    5.5\n"
     ]
    }
   ],
   "source": [
    "import numpy as np\n",
    "import pandas as pd\n",
    "\n",
    "# Create a NumPy array with dtype=object to hold mixed types\n",
    "data = np.array([\n",
    "    ['Blue', [1, 2], 1.1],\n",
    "    ['Red', [3, 4], 2.2],\n",
    "    ['Pink', [5, 6], 3.3],\n",
    "    ['Grey', [7, 8], 4.4],\n",
    "    ['Black', [9, 10], 5.5]\n",
    "], dtype=object)\n",
    "\n",
    "# Create DataFrame from NumPy array\n",
    "dfnp = pd.DataFrame(data, columns=['color', 'list', 'number'], index=[1, 3, 5, 7, 9])\n",
    "\n",
    "print(dfnp)"
   ]
  },
  {
   "cell_type": "code",
   "execution_count": 4,
   "id": "c249a388-da1a-4c15-9b2e-17e7636592a2",
   "metadata": {},
   "outputs": [
    {
     "name": "stdout",
     "output_type": "stream",
     "text": [
      "   color     list  number\n",
      "1   Blue   [1, 2]     1.1\n",
      "3    Red   [3, 4]     2.2\n",
      "5   Pink   [5, 6]     3.3\n",
      "7   Grey   [7, 8]     4.4\n",
      "9  Black  [9, 10]     5.5\n"
     ]
    }
   ],
   "source": [
    "# Create DataFrame directly\n",
    "dfpd = pd.DataFrame({\n",
    "    'color': ['Blue', 'Red', 'Pink', 'Grey', 'Black'],\n",
    "    'list': [[1, 2], [3, 4], [5, 6], [7, 8], [9, 10]],\n",
    "    'number': [1.1, 2.2, 3.3, 4.4, 5.5]\n",
    "}, index=[1, 3, 5, 7, 9])\n",
    "\n",
    "print(dfpd)"
   ]
  },
  {
   "cell_type": "code",
   "execution_count": 7,
   "id": "80bad612-525e-407e-8026-6471172a87e4",
   "metadata": {},
   "outputs": [
    {
     "name": "stdout",
     "output_type": "stream",
     "text": [
      "color      object\n",
      "list       object\n",
      "number    float64\n",
      "dtype: object\n"
     ]
    }
   ],
   "source": [
    "# To Print the types for every column and the types of the first value of every column\n",
    "print(dfpd.dtypes)\n"
   ]
  },
  {
   "cell_type": "code",
   "execution_count": null,
   "id": "4a32a80c-ebb9-4f47-a9ac-8ae9cf50c14e",
   "metadata": {},
   "outputs": [],
   "source": []
  }
 ],
 "metadata": {
  "kernelspec": {
   "display_name": "Python 3 (ipykernel)",
   "language": "python",
   "name": "python3"
  },
  "language_info": {
   "codemirror_mode": {
    "name": "ipython",
    "version": 3
   },
   "file_extension": ".py",
   "mimetype": "text/x-python",
   "name": "python",
   "nbconvert_exporter": "python",
   "pygments_lexer": "ipython3",
   "version": "3.13.7"
  }
 },
 "nbformat": 4,
 "nbformat_minor": 5
}
