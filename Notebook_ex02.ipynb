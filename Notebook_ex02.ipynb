{
 "cells": [
  {
   "cell_type": "markdown",
   "id": "237fc9cb-9003-42f4-97f8-2a600bc4fc72",
   "metadata": {},
   "source": [
    "# Exercise 2: Electric power consumption"
   ]
  },
  {
   "cell_type": "markdown",
   "id": "48f4b51c-82d8-4753-8080-fdb9fe5327da",
   "metadata": {},
   "source": [
    "## 1. Delete the columns Time, Sub_metering_2 and Sub_metering_3 on the household_power_consumption.txt file."
   ]
  },
  {
   "cell_type": "code",
   "execution_count": 2,
   "id": "1a566a60-9ce9-480d-ab01-71ddc5c0e2fe",
   "metadata": {},
   "outputs": [
    {
     "name": "stderr",
     "output_type": "stream",
     "text": [
      "/tmp/ipykernel_7446/3576977579.py:4: DtypeWarning: Columns (2,3,4,5,6,7) have mixed types. Specify dtype option on import or set low_memory=False.\n",
      "  df1 = pd.read_csv('household_power_consumption.txt', sep=';')\n"
     ]
    },
    {
     "ename": "NameError",
     "evalue": "name 'df' is not defined",
     "output_type": "error",
     "traceback": [
      "\u001b[31m---------------------------------------------------------------------------\u001b[39m",
      "\u001b[31mNameError\u001b[39m                                 Traceback (most recent call last)",
      "\u001b[36mCell\u001b[39m\u001b[36m \u001b[39m\u001b[32mIn[2]\u001b[39m\u001b[32m, line 7\u001b[39m\n\u001b[32m      4\u001b[39m df1 = pd.read_csv(\u001b[33m'\u001b[39m\u001b[33mhousehold_power_consumption.txt\u001b[39m\u001b[33m'\u001b[39m, sep=\u001b[33m'\u001b[39m\u001b[33m;\u001b[39m\u001b[33m'\u001b[39m)\n\u001b[32m      6\u001b[39m \u001b[38;5;66;03m# View the first few rows\u001b[39;00m\n\u001b[32m----> \u001b[39m\u001b[32m7\u001b[39m \u001b[38;5;28mprint\u001b[39m(\u001b[43mdf\u001b[49m.head())\n\u001b[32m      9\u001b[39m \u001b[38;5;66;03m# Delete the columns\u001b[39;00m\n\u001b[32m     10\u001b[39m df1 = df1.drop([\u001b[33m'\u001b[39m\u001b[33mTime\u001b[39m\u001b[33m'\u001b[39m, \u001b[33m'\u001b[39m\u001b[33mSub_metering_2\u001b[39m\u001b[33m'\u001b[39m, \u001b[33m'\u001b[39m\u001b[33mSub_metering_3\u001b[39m\u001b[33m'\u001b[39m], axis=\u001b[32m1\u001b[39m)\n",
      "\u001b[31mNameError\u001b[39m: name 'df' is not defined"
     ]
    }
   ],
   "source": [
    "\n",
    "import pandas as pd\n",
    "\n",
    "# Load the dataset (semicolon-separated)\n",
    "df1 = pd.read_csv('household_power_consumption.txt', sep=';')\n",
    "\n",
    "# View the first few rows\n",
    "print(df.head())\n",
    "\n",
    "# Delete the columns\n",
    "df1 = df1.drop(['Time', 'Sub_metering_2', 'Sub_metering_3'], axis=1)\n",
    "\n",
    "# Confirm that columns are deleted\n",
    "print(df1.head())\n"
   ]
  },
  {
   "cell_type": "markdown",
   "id": "74bf5194-84c8-436f-90dc-2916c6e2a49d",
   "metadata": {},
   "source": [
    "## 2. Set Date as index"
   ]
  },
  {
   "cell_type": "code",
   "execution_count": 10,
   "id": "a38e9103-a804-4040-a894-026a24b3ce04",
   "metadata": {},
   "outputs": [
    {
     "name": "stderr",
     "output_type": "stream",
     "text": [
      "/tmp/ipykernel_17816/1468833527.py:1: DtypeWarning: Columns (2,3,4,5,6,7) have mixed types. Specify dtype option on import or set low_memory=False.\n",
      "  df2 = pd.read_csv('household_power_consumption.txt', sep=';')\n"
     ]
    },
    {
     "name": "stdout",
     "output_type": "stream",
     "text": [
      "                Time Global_active_power Global_reactive_power  Voltage  \\\n",
      "Date                                                                      \n",
      "2006-12-16  17:24:00               4.216                 0.418  234.840   \n",
      "2006-12-16  17:25:00               5.360                 0.436  233.630   \n",
      "2006-12-16  17:26:00               5.374                 0.498  233.290   \n",
      "2006-12-16  17:27:00               5.388                 0.502  233.740   \n",
      "2006-12-16  17:28:00               3.666                 0.528  235.680   \n",
      "\n",
      "           Global_intensity Sub_metering_1 Sub_metering_2  Sub_metering_3  \n",
      "Date                                                                       \n",
      "2006-12-16           18.400          0.000          1.000            17.0  \n",
      "2006-12-16           23.000          0.000          1.000            16.0  \n",
      "2006-12-16           23.000          0.000          2.000            17.0  \n",
      "2006-12-16           23.000          0.000          1.000            17.0  \n",
      "2006-12-16           15.800          0.000          1.000            17.0  \n"
     ]
    }
   ],
   "source": [
    "df2 = pd.read_csv('household_power_consumption.txt', sep=';')\n",
    "df2['Date'] = pd.to_datetime(df2['Date'], format='%d/%m/%Y')  # convert to datetime\n",
    "\n",
    "df2 = df2.set_index('Date')\n",
    "print(df2.head())\n"
   ]
  },
  {
   "cell_type": "markdown",
   "id": "0ef8399c-af5a-417e-9983-e38a8641de7a",
   "metadata": {},
   "source": [
    "## 3. Create a function that takes as input the DataFrame with the data set and returns a DataFrame with updated types:"
   ]
  },
  {
   "cell_type": "code",
   "execution_count": 11,
   "id": "f5d33d84-1c28-46de-8816-04036d553936",
   "metadata": {},
   "outputs": [
    {
     "name": "stderr",
     "output_type": "stream",
     "text": [
      "/tmp/ipykernel_17816/700075405.py:29: DtypeWarning: Columns (2,3,4,5,6,7) have mixed types. Specify dtype option on import or set low_memory=False.\n",
      "  df3 = pd.read_csv('household_power_consumption.txt', sep=';')\n"
     ]
    },
    {
     "name": "stdout",
     "output_type": "stream",
     "text": [
      "                Time  Global_active_power  Global_reactive_power  Voltage  \\\n",
      "Date                                                                        \n",
      "2006-12-16  17:24:00                4.216                  0.418   234.84   \n",
      "2006-12-16  17:25:00                5.360                  0.436   233.63   \n",
      "2006-12-16  17:26:00                5.374                  0.498   233.29   \n",
      "2006-12-16  17:27:00                5.388                  0.502   233.74   \n",
      "2006-12-16  17:28:00                3.666                  0.528   235.68   \n",
      "\n",
      "            Global_intensity  Sub_metering_1  Sub_metering_2  Sub_metering_3  \n",
      "Date                                                                          \n",
      "2006-12-16              18.4             0.0             1.0            17.0  \n",
      "2006-12-16              23.0             0.0             1.0            16.0  \n",
      "2006-12-16              23.0             0.0             2.0            17.0  \n",
      "2006-12-16              23.0             0.0             1.0            17.0  \n",
      "2006-12-16              15.8             0.0             1.0            17.0  \n"
     ]
    }
   ],
   "source": [
    "\n",
    "\n",
    "def update_types(df):\n",
    "    \"\"\"\n",
    "    Takes a DataFrame with the household power consumption data\n",
    "    and returns a cleaned DataFrame with proper data types.\n",
    "    \"\"\"\n",
    "\n",
    "    # Convert Date column to datetime\n",
    "    df['Date'] = pd.to_datetime(df['Date'], format='%d/%m/%Y')\n",
    "\n",
    "    # Convert numeric columns from strings to floats\n",
    "    numeric_cols = [\n",
    "        'Global_active_power', \n",
    "        'Global_reactive_power', \n",
    "        'Voltage', \n",
    "        'Global_intensity', \n",
    "        'Sub_metering_1', \n",
    "        'Sub_metering_2', \n",
    "        'Sub_metering_3'\n",
    "    ]\n",
    "\n",
    "    for col in numeric_cols:\n",
    "        df[col] = pd.to_numeric(df[col], errors='coerce')  # convert and handle errors as NaN\n",
    "\n",
    "    # Optionally, set Date as index\n",
    "    df = df.set_index('Date')\n",
    "\n",
    "    return df\n",
    "\n",
    "df3 = pd.read_csv('household_power_consumption.txt', sep=';')\n",
    "print(update_types(df3).head())\n",
    "\n"
   ]
  },
  {
   "cell_type": "markdown",
   "id": "653d0c18-6cd6-48b2-8357-d178617240f5",
   "metadata": {},
   "source": [
    "## 4. Use describe to have an overview on the data set"
   ]
  },
  {
   "cell_type": "code",
   "execution_count": 4,
   "id": "e6b115ef-8002-4961-8b42-6685c997306a",
   "metadata": {},
   "outputs": [
    {
     "name": "stderr",
     "output_type": "stream",
     "text": [
      "/tmp/ipykernel_10515/3775764195.py:2: DtypeWarning: Columns (2,3,4,5,6,7) have mixed types. Specify dtype option on import or set low_memory=False.\n",
      "  df4 = pd.read_csv('household_power_consumption.txt', sep=';')\n"
     ]
    },
    {
     "name": "stdout",
     "output_type": "stream",
     "text": [
      "       Sub_metering_3\n",
      "count    2.049280e+06\n",
      "mean     6.458447e+00\n",
      "std      8.437154e+00\n",
      "min      0.000000e+00\n",
      "25%      0.000000e+00\n",
      "50%      1.000000e+00\n",
      "75%      1.700000e+01\n",
      "max      3.100000e+01\n"
     ]
    }
   ],
   "source": [
    "# Step 1: Read the CSV file into a DataFrame\n",
    "df4 = pd.read_csv('household_power_consumption.txt', sep=';')\n",
    "\n",
    "# Step 2: Get an overview of the dataset\n",
    "print(df4.describe())"
   ]
  },
  {
   "cell_type": "markdown",
   "id": "e88606aa-d5bc-4089-9cf6-700bd58b5c44",
   "metadata": {},
   "source": [
    "## 5. Delete the rows with missing values"
   ]
  },
  {
   "cell_type": "code",
   "execution_count": 6,
   "id": "af73ac56-0a6f-4ed1-a373-a6a27bb6fc98",
   "metadata": {},
   "outputs": [
    {
     "name": "stderr",
     "output_type": "stream",
     "text": [
      "/tmp/ipykernel_10515/3638108643.py:2: DtypeWarning: Columns (2,3,4,5,6,7) have mixed types. Specify dtype option on import or set low_memory=False.\n",
      "  df5 = pd.read_csv('household_power_consumption.txt', sep=';')\n"
     ]
    },
    {
     "name": "stdout",
     "output_type": "stream",
     "text": [
      "<class 'pandas.core.frame.DataFrame'>\n",
      "Index: 2049280 entries, 0 to 2075258\n",
      "Data columns (total 9 columns):\n",
      " #   Column                 Dtype  \n",
      "---  ------                 -----  \n",
      " 0   Date                   object \n",
      " 1   Time                   object \n",
      " 2   Global_active_power    object \n",
      " 3   Global_reactive_power  object \n",
      " 4   Voltage                object \n",
      " 5   Global_intensity       object \n",
      " 6   Sub_metering_1         object \n",
      " 7   Sub_metering_2         object \n",
      " 8   Sub_metering_3         float64\n",
      "dtypes: float64(1), object(8)\n",
      "memory usage: 156.3+ MB\n",
      "None\n"
     ]
    }
   ],
   "source": [
    "# Step 1: Read the CSV file into a DataFrame\n",
    "df5 = pd.read_csv('household_power_consumption.txt', sep=';')\n",
    "# .dropna() removes all rows that have at least one missing value (NaN).\n",
    "df5_clean = df5.dropna()\n",
    "print(df5_clean.info())"
   ]
  },
  {
   "cell_type": "markdown",
   "id": "6f52e21b-8431-48d4-8bfa-fe7127576ee3",
   "metadata": {},
   "source": [
    "## 6. Modify Sub_metering_1 by adding 1 to it and multiplying the total by 0.06. If x is a row the output is: (x+1)*0.06"
   ]
  },
  {
   "cell_type": "code",
   "execution_count": 6,
   "id": "7eeb5c8d-bf64-4191-b904-237bb2e6c42d",
   "metadata": {},
   "outputs": [
    {
     "name": "stdout",
     "output_type": "stream",
     "text": [
      "         Date      Time  Global_active_power  Global_reactive_power  Voltage  \\\n",
      "0  16/12/2006  17:24:00                4.216                  0.418   234.84   \n",
      "1  16/12/2006  17:25:00                5.360                  0.436   233.63   \n",
      "2  16/12/2006  17:26:00                5.374                  0.498   233.29   \n",
      "3  16/12/2006  17:27:00                5.388                  0.502   233.74   \n",
      "4  16/12/2006  17:28:00                3.666                  0.528   235.68   \n",
      "\n",
      "   Global_intensity  Sub_metering_1  Sub_metering_2  Sub_metering_3  \n",
      "0              18.4            0.06             1.0            17.0  \n",
      "1              23.0            0.06             1.0            16.0  \n",
      "2              23.0            0.06             2.0            17.0  \n",
      "3              23.0            0.06             1.0            17.0  \n",
      "4              15.8            0.06             1.0            17.0  \n"
     ]
    }
   ],
   "source": [
    "df6 = pd.read_csv('household_power_consumption.txt', sep=';', na_values=['?'])\n",
    "# Modify the Sub_metering_1 column\n",
    "df6['Sub_metering_1'] = (df6['Sub_metering_1'].astype(float) + 1.0) * 0.06\n",
    "print(df6.head())\n"
   ]
  },
  {
   "cell_type": "markdown",
   "id": "2431773c-2f2c-454c-aeb5-ca1af017c546",
   "metadata": {},
   "source": [
    "## 7. Select all the rows for which the Date is greater or equal than 2008-12-27 and Voltage is greater or equal than 242"
   ]
  },
  {
   "cell_type": "code",
   "execution_count": 7,
   "id": "b3b4b3fb-506a-443d-818e-371b867b40cf",
   "metadata": {},
   "outputs": [
    {
     "name": "stderr",
     "output_type": "stream",
     "text": [
      "/tmp/ipykernel_7446/1315156466.py:2: UserWarning: Parsing dates in %d/%m/%Y format when dayfirst=False (the default) was specified. Pass `dayfirst=True` or specify a format to silence this warning.\n",
      "  df7['Date'] = pd.to_datetime(df7['Date'], errors='coerce')\n"
     ]
    },
    {
     "name": "stdout",
     "output_type": "stream",
     "text": [
      "              Date      Time  Global_active_power  Global_reactive_power  \\\n",
      "1067436 2008-12-27  00:00:00                0.996                  0.066   \n",
      "1067437 2008-12-27  00:01:00                1.076                  0.162   \n",
      "1067438 2008-12-27  00:02:00                1.064                  0.172   \n",
      "1067439 2008-12-27  00:03:00                1.070                  0.174   \n",
      "1067440 2008-12-27  00:04:00                0.804                  0.184   \n",
      "\n",
      "         Voltage  Global_intensity  Sub_metering_1  Sub_metering_2  \\\n",
      "1067436   244.81               4.0             0.0             0.0   \n",
      "1067437   244.78               4.4             0.0             0.0   \n",
      "1067438   244.74               4.4             0.0             0.0   \n",
      "1067439   245.28               4.4             0.0             0.0   \n",
      "1067440   246.30               3.4             0.0             0.0   \n",
      "\n",
      "         Sub_metering_3  \n",
      "1067436             0.0  \n",
      "1067437             0.0  \n",
      "1067438             0.0  \n",
      "1067439             0.0  \n",
      "1067440             0.0  \n"
     ]
    }
   ],
   "source": [
    "df7 = pd.read_csv('household_power_consumption.txt', sep=';', na_values=['?'])\n",
    "df7['Date'] = pd.to_datetime(df7['Date'], errors='coerce')\n",
    "df7['Voltage'] = pd.to_numeric(df6['Voltage'], errors='coerce')\n",
    "filtered_df7 = df7[(df7['Date'] >= '2008-12-27') & (df7['Voltage'] >= 242)]\n",
    "\n",
    "print(filtered_df7.head())"
   ]
  },
  {
   "cell_type": "markdown",
   "id": "46d35d31-38ac-4f4f-8c11-1fab74e088b9",
   "metadata": {},
   "source": [
    "## 8. Print the 88888th row."
   ]
  },
  {
   "cell_type": "code",
   "execution_count": 8,
   "id": "b348c2e8-ff19-4775-ba50-f6c6819d1f25",
   "metadata": {},
   "outputs": [
    {
     "name": "stdout",
     "output_type": "stream",
     "text": [
      "Date                     16/2/2007\n",
      "Time                      10:51:00\n",
      "Global_active_power           0.26\n",
      "Global_reactive_power          0.0\n",
      "Voltage                     239.62\n",
      "Global_intensity               1.2\n",
      "Sub_metering_1                0.06\n",
      "Sub_metering_2                 0.0\n",
      "Sub_metering_3                 0.0\n",
      "Name: 88887, dtype: object\n",
      "     Date     Time  Global_active_power  Global_reactive_power  Voltage  Global_intensity  Sub_metering_1  Sub_metering_2  Sub_metering_3\n",
      "16/2/2007 10:51:00                 0.26                    0.0   239.62               1.2             0.0             0.0             0.0\n"
     ]
    }
   ],
   "source": [
    "df8 = pd.read_csv('household_power_consumption.txt', sep=';', na_values=['?'])\n",
    "\n",
    "print(df6.iloc[88887])\n",
    "\n",
    "print(df8.iloc[[88887]].to_string(index=False))\n"
   ]
  },
  {
   "cell_type": "markdown",
   "id": "d23bc0c6-53c8-4c99-aed5-0de3afce3e71",
   "metadata": {},
   "source": [
    "## 9. What is the date for which the Global_active_power is maximal ?"
   ]
  },
  {
   "cell_type": "code",
   "execution_count": 9,
   "id": "43bd5389-03ab-4494-8c58-0fc3f80f5507",
   "metadata": {},
   "outputs": [
    {
     "name": "stderr",
     "output_type": "stream",
     "text": [
      "/tmp/ipykernel_7446/372886678.py:5: UserWarning: Parsing dates in %d/%m/%Y format when dayfirst=False (the default) was specified. Pass `dayfirst=True` or specify a format to silence this warning.\n",
      "  df9['Date'] = pd.to_datetime(df9['Date'], errors='coerce')\n"
     ]
    },
    {
     "name": "stdout",
     "output_type": "stream",
     "text": [
      "The date with the maximum Global_active_power is: 2009-02-22 00:00:00\n"
     ]
    }
   ],
   "source": [
    "\n",
    "# Read file\n",
    "df9 = pd.read_csv('household_power_consumption.txt', sep=';', na_values=['?'])\n",
    "\n",
    "# Convert columns\n",
    "df9['Date'] = pd.to_datetime(df9['Date'], errors='coerce')\n",
    "df9['Global_active_power'] = pd.to_numeric(df6['Global_active_power'], errors='coerce')\n",
    "\n",
    "# Find date with max Global_active_power\n",
    "max_index = df9['Global_active_power'].idxmax()\n",
    "max_date = df9.loc[max_index, 'Date']\n",
    "\n",
    "print(\"The date with the maximum Global_active_power is:\", max_date)\n"
   ]
  },
  {
   "cell_type": "markdown",
   "id": "89890422-8afe-43cf-9160-1c0a63d05846",
   "metadata": {},
   "source": [
    "## 10. Sort the first three columns by descending order of Global_active_power and ascending order of Voltage."
   ]
  },
  {
   "cell_type": "code",
   "execution_count": 13,
   "id": "691f49e4-33c8-434e-b9b1-805a490b0725",
   "metadata": {},
   "outputs": [
    {
     "name": "stdout",
     "output_type": "stream",
     "text": [
      "               Date      Time  Global_active_power Global_reactive_power  \\\n",
      "1150545   22/2/2009  17:09:00               11.122                 0.174   \n",
      "112450     4/3/2007  19:34:00               10.670                 0.516   \n",
      "112449     4/3/2007  19:33:00               10.650                 0.500   \n",
      "1150544   22/2/2009  17:08:00               10.536                 0.192   \n",
      "1029775  30/11/2008  20:19:00               10.348                 0.084   \n",
      "\n",
      "         Voltage Global_intensity Sub_metering_1 Sub_metering_2  \\\n",
      "1150545   229.78           48.400         35.000         69.000   \n",
      "112450    230.20           46.400         37.000         69.000   \n",
      "112449    229.97           46.400         36.000         70.000   \n",
      "1150544   230.24           45.800         23.000         69.000   \n",
      "1029775   231.60           44.600         36.000         71.000   \n",
      "\n",
      "         Sub_metering_3  \n",
      "1150545            16.0  \n",
      "112450             16.0  \n",
      "112449             17.0  \n",
      "1150544            16.0  \n",
      "1029775            16.0  \n",
      "               Date      Time  Global_active_power\n",
      "1150545   22/2/2009  17:09:00               11.122\n",
      "112450     4/3/2007  19:34:00               10.670\n",
      "112449     4/3/2007  19:33:00               10.650\n",
      "1150544   22/2/2009  17:08:00               10.536\n",
      "1029775  30/11/2008  20:19:00               10.348\n"
     ]
    }
   ],
   "source": [
    "df1['Global_active_power'] = pd.to_numeric(df1['Global_active_power'], errors='coerce')\n",
    "df1['Voltage'] = pd.to_numeric(df1['Voltage'], errors='coerce')\n",
    "sorted_df1 = df1.sort_values(\n",
    "    by=['Global_active_power', 'Voltage'],\n",
    "    ascending=[False, True]\n",
    ")\n",
    "sorted_first_three = sorted_df1.iloc[:, :3]\n",
    "print(sorted_df1.head())\n",
    "print(sorted_first_three.head())\n"
   ]
  },
  {
   "cell_type": "markdown",
   "id": "83db186c-fccb-4574-b9d0-e019a3436e37",
   "metadata": {},
   "source": [
    "## 11. Compute the daily average of Global_active_power."
   ]
  },
  {
   "cell_type": "code",
   "execution_count": 18,
   "id": "d3c80f46-7dce-4bbb-9678-66c4f4495f4f",
   "metadata": {},
   "outputs": [
    {
     "name": "stderr",
     "output_type": "stream",
     "text": [
      "/tmp/ipykernel_7446/3429868254.py:3: UserWarning: Parsing dates in %d/%m/%Y format when dayfirst=False (the default) was specified. Pass `dayfirst=True` or specify a format to silence this warning.\n",
      "  df11['Date'] = pd.to_datetime(df11['Date'], errors='coerce')\n"
     ]
    },
    {
     "name": "stdout",
     "output_type": "stream",
     "text": [
      "Date\n",
      "2006-12-16    3.053475\n",
      "2006-12-17    2.354486\n",
      "2006-12-18    1.530435\n",
      "2006-12-19    1.157079\n",
      "2006-12-20    1.545658\n",
      "Name: Global_active_power, dtype: float64\n"
     ]
    }
   ],
   "source": [
    "df11 = pd.read_csv('household_power_consumption.txt', sep=';', na_values=['?'])\n",
    "\n",
    "df11['Date'] = pd.to_datetime(df11['Date'], errors='coerce')\n",
    "df11['Global_active_power'] = pd.to_numeric(df11['Global_active_power'], errors='coerce')\n",
    "\n",
    "daily_avg = df11.groupby('Date')['Global_active_power'].mean()\n",
    "print(daily_avg.head())\n"
   ]
  },
  {
   "cell_type": "code",
   "execution_count": null,
   "id": "fc841325-617a-48d7-8fe4-57198314fee0",
   "metadata": {},
   "outputs": [],
   "source": []
  }
 ],
 "metadata": {
  "kernelspec": {
   "display_name": "Python 3 (ipykernel)",
   "language": "python",
   "name": "python3"
  },
  "language_info": {
   "codemirror_mode": {
    "name": "ipython",
    "version": 3
   },
   "file_extension": ".py",
   "mimetype": "text/x-python",
   "name": "python",
   "nbconvert_exporter": "python",
   "pygments_lexer": "ipython3",
   "version": "3.13.7"
  }
 },
 "nbformat": 4,
 "nbformat_minor": 5
}
