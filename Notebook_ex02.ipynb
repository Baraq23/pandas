{
 "cells": [
  {
   "cell_type": "markdown",
   "id": "237fc9cb-9003-42f4-97f8-2a600bc4fc72",
   "metadata": {},
   "source": [
    "# Exercise 2: Electric power consumption"
   ]
  },
  {
   "cell_type": "markdown",
   "id": "48f4b51c-82d8-4753-8080-fdb9fe5327da",
   "metadata": {},
   "source": [
    "## 1. Delete the columns Time, Sub_metering_2 and Sub_metering_3 on the household_power_consumption.txt file."
   ]
  },
  {
   "cell_type": "code",
   "execution_count": 7,
   "id": "1a566a60-9ce9-480d-ab01-71ddc5c0e2fe",
   "metadata": {},
   "outputs": [
    {
     "name": "stderr",
     "output_type": "stream",
     "text": [
      "/tmp/ipykernel_17816/3576977579.py:4: DtypeWarning: Columns (2,3,4,5,6,7) have mixed types. Specify dtype option on import or set low_memory=False.\n",
      "  df1 = pd.read_csv('household_power_consumption.txt', sep=';')\n"
     ]
    },
    {
     "name": "stdout",
     "output_type": "stream",
     "text": [
      "                Time Global_active_power Global_reactive_power  Voltage  \\\n",
      "Date                                                                      \n",
      "2006-12-16  17:24:00               4.216                 0.418  234.840   \n",
      "2006-12-16  17:25:00               5.360                 0.436  233.630   \n",
      "2006-12-16  17:26:00               5.374                 0.498  233.290   \n",
      "2006-12-16  17:27:00               5.388                 0.502  233.740   \n",
      "2006-12-16  17:28:00               3.666                 0.528  235.680   \n",
      "\n",
      "           Global_intensity Sub_metering_1 Sub_metering_2  Sub_metering_3  \n",
      "Date                                                                       \n",
      "2006-12-16           18.400          0.000          1.000            17.0  \n",
      "2006-12-16           23.000          0.000          1.000            16.0  \n",
      "2006-12-16           23.000          0.000          2.000            17.0  \n",
      "2006-12-16           23.000          0.000          1.000            17.0  \n",
      "2006-12-16           15.800          0.000          1.000            17.0  \n",
      "         Date Global_active_power Global_reactive_power  Voltage  \\\n",
      "0  16/12/2006               4.216                 0.418  234.840   \n",
      "1  16/12/2006               5.360                 0.436  233.630   \n",
      "2  16/12/2006               5.374                 0.498  233.290   \n",
      "3  16/12/2006               5.388                 0.502  233.740   \n",
      "4  16/12/2006               3.666                 0.528  235.680   \n",
      "\n",
      "  Global_intensity Sub_metering_1  \n",
      "0           18.400          0.000  \n",
      "1           23.000          0.000  \n",
      "2           23.000          0.000  \n",
      "3           23.000          0.000  \n",
      "4           15.800          0.000  \n"
     ]
    }
   ],
   "source": [
    "\n",
    "import pandas as pd\n",
    "\n",
    "# Load the dataset (semicolon-separated)\n",
    "df1 = pd.read_csv('household_power_consumption.txt', sep=';')\n",
    "\n",
    "# View the first few rows\n",
    "print(df.head())\n",
    "\n",
    "# Delete the columns\n",
    "df1 = df1.drop(['Time', 'Sub_metering_2', 'Sub_metering_3'], axis=1)\n",
    "\n",
    "# Confirm that columns are deleted\n",
    "print(df1.head())\n"
   ]
  },
  {
   "cell_type": "markdown",
   "id": "74bf5194-84c8-436f-90dc-2916c6e2a49d",
   "metadata": {},
   "source": [
    "## 2. Set Date as index"
   ]
  },
  {
   "cell_type": "code",
   "execution_count": 10,
   "id": "a38e9103-a804-4040-a894-026a24b3ce04",
   "metadata": {},
   "outputs": [
    {
     "name": "stderr",
     "output_type": "stream",
     "text": [
      "/tmp/ipykernel_17816/1468833527.py:1: DtypeWarning: Columns (2,3,4,5,6,7) have mixed types. Specify dtype option on import or set low_memory=False.\n",
      "  df2 = pd.read_csv('household_power_consumption.txt', sep=';')\n"
     ]
    },
    {
     "name": "stdout",
     "output_type": "stream",
     "text": [
      "                Time Global_active_power Global_reactive_power  Voltage  \\\n",
      "Date                                                                      \n",
      "2006-12-16  17:24:00               4.216                 0.418  234.840   \n",
      "2006-12-16  17:25:00               5.360                 0.436  233.630   \n",
      "2006-12-16  17:26:00               5.374                 0.498  233.290   \n",
      "2006-12-16  17:27:00               5.388                 0.502  233.740   \n",
      "2006-12-16  17:28:00               3.666                 0.528  235.680   \n",
      "\n",
      "           Global_intensity Sub_metering_1 Sub_metering_2  Sub_metering_3  \n",
      "Date                                                                       \n",
      "2006-12-16           18.400          0.000          1.000            17.0  \n",
      "2006-12-16           23.000          0.000          1.000            16.0  \n",
      "2006-12-16           23.000          0.000          2.000            17.0  \n",
      "2006-12-16           23.000          0.000          1.000            17.0  \n",
      "2006-12-16           15.800          0.000          1.000            17.0  \n"
     ]
    }
   ],
   "source": [
    "df2 = pd.read_csv('household_power_consumption.txt', sep=';')\n",
    "df2['Date'] = pd.to_datetime(df2['Date'], format='%d/%m/%Y')  # convert to datetime\n",
    "\n",
    "df2 = df2.set_index('Date')\n",
    "print(df2.head())\n"
   ]
  },
  {
   "cell_type": "markdown",
   "id": "0ef8399c-af5a-417e-9983-e38a8641de7a",
   "metadata": {},
   "source": [
    "## 3. Create a function that takes as input the DataFrame with the data set and returns a DataFrame with updated types:"
   ]
  },
  {
   "cell_type": "code",
   "execution_count": 11,
   "id": "f5d33d84-1c28-46de-8816-04036d553936",
   "metadata": {},
   "outputs": [
    {
     "name": "stderr",
     "output_type": "stream",
     "text": [
      "/tmp/ipykernel_17816/700075405.py:29: DtypeWarning: Columns (2,3,4,5,6,7) have mixed types. Specify dtype option on import or set low_memory=False.\n",
      "  df3 = pd.read_csv('household_power_consumption.txt', sep=';')\n"
     ]
    },
    {
     "name": "stdout",
     "output_type": "stream",
     "text": [
      "                Time  Global_active_power  Global_reactive_power  Voltage  \\\n",
      "Date                                                                        \n",
      "2006-12-16  17:24:00                4.216                  0.418   234.84   \n",
      "2006-12-16  17:25:00                5.360                  0.436   233.63   \n",
      "2006-12-16  17:26:00                5.374                  0.498   233.29   \n",
      "2006-12-16  17:27:00                5.388                  0.502   233.74   \n",
      "2006-12-16  17:28:00                3.666                  0.528   235.68   \n",
      "\n",
      "            Global_intensity  Sub_metering_1  Sub_metering_2  Sub_metering_3  \n",
      "Date                                                                          \n",
      "2006-12-16              18.4             0.0             1.0            17.0  \n",
      "2006-12-16              23.0             0.0             1.0            16.0  \n",
      "2006-12-16              23.0             0.0             2.0            17.0  \n",
      "2006-12-16              23.0             0.0             1.0            17.0  \n",
      "2006-12-16              15.8             0.0             1.0            17.0  \n"
     ]
    }
   ],
   "source": [
    "\n",
    "\n",
    "def update_types(df):\n",
    "    \"\"\"\n",
    "    Takes a DataFrame with the household power consumption data\n",
    "    and returns a cleaned DataFrame with proper data types.\n",
    "    \"\"\"\n",
    "\n",
    "    # Convert Date column to datetime\n",
    "    df['Date'] = pd.to_datetime(df['Date'], format='%d/%m/%Y')\n",
    "\n",
    "    # Convert numeric columns from strings to floats\n",
    "    numeric_cols = [\n",
    "        'Global_active_power', \n",
    "        'Global_reactive_power', \n",
    "        'Voltage', \n",
    "        'Global_intensity', \n",
    "        'Sub_metering_1', \n",
    "        'Sub_metering_2', \n",
    "        'Sub_metering_3'\n",
    "    ]\n",
    "\n",
    "    for col in numeric_cols:\n",
    "        df[col] = pd.to_numeric(df[col], errors='coerce')  # convert and handle errors as NaN\n",
    "\n",
    "    # Optionally, set Date as index\n",
    "    df = df.set_index('Date')\n",
    "\n",
    "    return df\n",
    "\n",
    "df3 = pd.read_csv('household_power_consumption.txt', sep=';')\n",
    "print(update_types(df3).head())\n",
    "\n"
   ]
  },
  {
   "cell_type": "markdown",
   "id": "653d0c18-6cd6-48b2-8357-d178617240f5",
   "metadata": {},
   "source": [
    "## 4. Use describe to have an overview on the data set"
   ]
  },
  {
   "cell_type": "code",
   "execution_count": null,
   "id": "e6b115ef-8002-4961-8b42-6685c997306a",
   "metadata": {},
   "outputs": [],
   "source": []
  }
 ],
 "metadata": {
  "kernelspec": {
   "display_name": "Python 3 (ipykernel)",
   "language": "python",
   "name": "python3"
  },
  "language_info": {
   "codemirror_mode": {
    "name": "ipython",
    "version": 3
   },
   "file_extension": ".py",
   "mimetype": "text/x-python",
   "name": "python",
   "nbconvert_exporter": "python",
   "pygments_lexer": "ipython3",
   "version": "3.13.7"
  }
 },
 "nbformat": 4,
 "nbformat_minor": 5
}
